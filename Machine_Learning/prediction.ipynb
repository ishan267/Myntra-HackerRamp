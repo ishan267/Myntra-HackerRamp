{
 "cells": [
  {
   "cell_type": "code",
   "execution_count": 1,
   "id": "b984634c",
   "metadata": {},
   "outputs": [],
   "source": [
    "import cv2\n",
    "from keras.models import load_model\n",
    "import numpy as np"
   ]
  },
  {
   "cell_type": "code",
   "execution_count": 2,
   "id": "9dd4c602",
   "metadata": {},
   "outputs": [],
   "source": [
    "products = ['tv','television','pc','personal computer','laptop','earphones','mobile','phone','heater','headphones','mouse','speakers','computer','charger','watch','wristwatch','keyboard','fan','bulb','tubelight','ceiling fan','mic','geaser','cooler','ac','air conditioner','iron','lcd','projector','smartwatch','camera','drive','printer','monitor','desktop','router','pen drive','']"
   ]
  },
  {
   "cell_type": "code",
   "execution_count": 7,
   "id": "e5820823",
   "metadata": {},
   "outputs": [],
   "source": [
    "class predict:\n",
    "    \n",
    "    def __init__(self):\n",
    "        self.product_name = np.load('final_model/product_name.npy',allow_pickle='TRUE').item()\n",
    "        self.model = load_model('final_model')\n",
    "    \n",
    "    def img_to_X(self,image):\n",
    "        X = []\n",
    "        img = cv2.imread(str(image))\n",
    "        resized_img = cv2.resize(img,(224,224))\n",
    "        X.append(resized_img)\n",
    "        X = np.array(X)\n",
    "        X = X / 255\n",
    "        return X\n",
    "    \n",
    "    def get_products_from_text(self,s):\n",
    "        arr = s.split()\n",
    "        ans = []\n",
    "        for pr in arr:\n",
    "            if (pr in products):ans.append(pr)\n",
    "            if (pr+'s' in products):ans.append(pr+'s')\n",
    "        return ans   \n",
    "    \n",
    "    def get_products_from_image(self,img_path):\n",
    "        X = self.img_to_X(img_path)\n",
    "        predicted = self.model.predict(np.array([X[0]]))\n",
    "        predicted = np.argmax(predicted,axis=1)\n",
    "        return self.product_name[predicted[0]]"
   ]
  },
  {
   "cell_type": "code",
   "execution_count": null,
   "id": "6c7a6058",
   "metadata": {},
   "outputs": [],
   "source": []
  }
 ],
 "metadata": {
  "kernelspec": {
   "display_name": "Python 3",
   "language": "python",
   "name": "python3"
  },
  "language_info": {
   "codemirror_mode": {
    "name": "ipython",
    "version": 3
   },
   "file_extension": ".py",
   "mimetype": "text/x-python",
   "name": "python",
   "nbconvert_exporter": "python",
   "pygments_lexer": "ipython3",
   "version": "3.9.5"
  }
 },
 "nbformat": 4,
 "nbformat_minor": 5
}
